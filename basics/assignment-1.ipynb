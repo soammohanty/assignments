{
 "cells": [
  {
   "cell_type": "code",
   "execution_count": null,
   "id": "absent-justice",
   "metadata": {},
   "outputs": [],
   "source": [
    "\"\"\"\n",
    "1. What are the differences between operators and values in the following?\n",
    "*\n",
    "'hello'\n",
    "-87.8\n",
    "-\n",
    "/\n",
    "+\n",
    "6\n",
    "\"\"\"\n",
    "\n",
    "#Answer:\n",
    "\n",
    "#Operators are: *, -, /, +\n",
    "#Values are -87.8, 6, 'hello'\n",
    "\n",
    "#Operators were always assoicated with values, where as values may or maynot be associated with operator\n"
   ]
  },
  {
   "cell_type": "code",
   "execution_count": null,
   "id": "governing-radiation",
   "metadata": {},
   "outputs": [],
   "source": [
    "\"\"\"\n",
    "2. What is the difference between string and variable?\n",
    "spam\n",
    "'spam'\n",
    "\"\"\"\n",
    "\n",
    "#Ans:\n",
    "# String is data-type whereas variable is reference to an object and used to represent any value\n",
    "# String in python is enclosed within \"\" or '' but not in case of variable\n",
    "# Here spam is variable and 'spam' is a string"
   ]
  },
  {
   "cell_type": "code",
   "execution_count": null,
   "id": "german-reconstruction",
   "metadata": {},
   "outputs": [],
   "source": [
    "\"\"\"\n",
    "3. Describe three different data forms.\n",
    "\"\"\"\n",
    "\n",
    "#Ans:\n",
    "# String, Numeric, Boolean"
   ]
  },
  {
   "cell_type": "code",
   "execution_count": null,
   "id": "steady-position",
   "metadata": {},
   "outputs": [],
   "source": [
    "\"\"\"\n",
    "4. What makes up an expression? What are the functions of all expressions?\n",
    "\"\"\"\n",
    "\n",
    "# Expression is a combination of variables, operations and values that makes a result value. \n",
    "# It can be reduced to a value, for example \"2+5\" or x = 10+40.\n",
    "# An expression can be calls to functions too.\n",
    "# Example print(len(\"data\")).Here len is a built-in Python function that returns the number of characters.\n"
   ]
  },
  {
   "cell_type": "code",
   "execution_count": null,
   "id": "increasing-holmes",
   "metadata": {},
   "outputs": [],
   "source": [
    "\"\"\"\n",
    "5. In this chapter, assignment statements such as spam = 10 were added. What's the\n",
    "difference between a declaration and an expression?\n",
    "\"\"\"\n",
    "#Answer:\n",
    "#Python is a dynamic-typed language, which means we don't need to mention the variable type or declare before using it. \n",
    "# For example in spam = 10, later we can also re-declare it as spam=\"data\".\n",
    "# There are some rules/convention while declaring in python like \n",
    "# The first character of the variable can be an alphabet or (_) underscore.\n",
    "# Special characters (@, #, %, ^, &, *) should not be used in variable name.\n",
    "# Reserve words cannot be declared as variables.\n",
    "\n",
    "# Whereas Expression is a combination of variables, operations and values\n",
    "\n",
    "# So we can say every declaration is an expression and vice-versa is not true\n",
    "# For example 10+20 is an expression but not a declaration\n"
   ]
  },
  {
   "cell_type": "code",
   "execution_count": null,
   "id": "agricultural-grill",
   "metadata": {},
   "outputs": [],
   "source": [
    "\"\"\"\n",
    "6. After running the following code, what does the variable bacon contain?\n",
    "bacon = 22\n",
    "bacon + 1\n",
    "\"\"\"\n",
    "\n"
   ]
  },
  {
   "cell_type": "code",
   "execution_count": null,
   "id": "together-mainland",
   "metadata": {},
   "outputs": [],
   "source": [
    "bacon = 22\n",
    "bacon + 1"
   ]
  },
  {
   "cell_type": "code",
   "execution_count": 49,
   "id": "executed-housing",
   "metadata": {},
   "outputs": [
    {
     "data": {
      "text/plain": [
       "22"
      ]
     },
     "execution_count": 49,
     "metadata": {},
     "output_type": "execute_result"
    }
   ],
   "source": [
    "bacon"
   ]
  },
  {
   "cell_type": "code",
   "execution_count": null,
   "id": "delayed-works",
   "metadata": {},
   "outputs": [],
   "source": [
    "# Output of bacon will be 22 because expression \"bacon + 1\" is incremented but not assigned to bacon itself.\n",
    "# To assign it - bacon = bacon+1"
   ]
  },
  {
   "cell_type": "code",
   "execution_count": null,
   "id": "dying-ocean",
   "metadata": {},
   "outputs": [],
   "source": [
    "\"\"\"\n",
    "7. What should the values of the following two terms be?\n",
    "\n",
    "'spam' + 'spamspam'\n",
    "'spam' * 3\n",
    "\"\"\""
   ]
  },
  {
   "cell_type": "code",
   "execution_count": 48,
   "id": "median-handy",
   "metadata": {},
   "outputs": [
    {
     "data": {
      "text/plain": [
       "'spamspamspam'"
      ]
     },
     "execution_count": 48,
     "metadata": {},
     "output_type": "execute_result"
    }
   ],
   "source": [
    "'spam' + 'spamspam'  # Two strings are concatinated \n"
   ]
  },
  {
   "cell_type": "code",
   "execution_count": 47,
   "id": "reduced-offset",
   "metadata": {},
   "outputs": [
    {
     "data": {
      "text/plain": [
       "'spamspamspam'"
      ]
     },
     "execution_count": 47,
     "metadata": {},
     "output_type": "execute_result"
    }
   ],
   "source": [
    "'spam' * 3 # String is self-concatinated thrice"
   ]
  },
  {
   "cell_type": "code",
   "execution_count": null,
   "id": "pressing-kenya",
   "metadata": {},
   "outputs": [],
   "source": [
    "'''\n",
    "8. Why is it that eggs is a true variable name but 100 is not?\n",
    "'''\n",
    "#Ans:\n",
    "# Because there is some convention/rule for a variable:\n",
    "# The first character of the variable can be an alphabet or (_) underscore.\n",
    "# Special characters (@, #, %, ^, &, *) should not be used in variable name.\n",
    "# Reserve words cannot be declared as variables.\n",
    "\n",
    "# 100 doesn't follow the above rule"
   ]
  },
  {
   "cell_type": "code",
   "execution_count": null,
   "id": "organic-vancouver",
   "metadata": {},
   "outputs": [],
   "source": [
    "'''\n",
    "9. Which of the following three functions may be used to convert a value to an integer, a\n",
    "floating-point number, or a string?\n",
    "'''\n",
    "\n"
   ]
  },
  {
   "cell_type": "code",
   "execution_count": 46,
   "id": "defined-finance",
   "metadata": {},
   "outputs": [
    {
     "name": "stdout",
     "output_type": "stream",
     "text": [
      "Type of x:  <class 'int'>\n",
      "Type of y:  <class 'float'>\n",
      "Type of x:  <class 'str'>\n"
     ]
    }
   ],
   "source": [
    "#Ans:\n",
    "x = '1'\n",
    "y = '1.2'\n",
    "z = 1\n",
    "\n",
    "# To convert into integer\n",
    "x = int(x)\n",
    "print('Type of x: ',type(x))\n",
    "\n",
    "# To convert into floating-point\n",
    "y = float(y)\n",
    "print('Type of y: ',type(y))\n",
    "\n",
    "\n",
    "# To convert into string\n",
    "z = str(z)\n",
    "print('Type of x: ',type(z))\n"
   ]
  },
  {
   "cell_type": "code",
   "execution_count": null,
   "id": "covered-recovery",
   "metadata": {},
   "outputs": [],
   "source": [
    "'''\n",
    "10. What is the error caused by this expression? What would you do about it?\n",
    "\n",
    "'I have eaten' + 99 + 'burritos'\n",
    "\n",
    "'''\n",
    "\n",
    "#Ans: 99 is int type not str type. To fix it we should type cast 99 into string "
   ]
  },
  {
   "cell_type": "code",
   "execution_count": 45,
   "id": "decimal-james",
   "metadata": {},
   "outputs": [
    {
     "data": {
      "text/plain": [
       "'I have eaten 99 burritos'"
      ]
     },
     "execution_count": 45,
     "metadata": {},
     "output_type": "execute_result"
    }
   ],
   "source": [
    "'I have eaten ' + str(99) + ' burritos'"
   ]
  },
  {
   "cell_type": "code",
   "execution_count": null,
   "id": "disturbed-absence",
   "metadata": {},
   "outputs": [],
   "source": []
  }
 ],
 "metadata": {
  "kernelspec": {
   "display_name": "Python 3",
   "language": "python",
   "name": "python3"
  },
  "language_info": {
   "codemirror_mode": {
    "name": "ipython",
    "version": 3
   },
   "file_extension": ".py",
   "mimetype": "text/x-python",
   "name": "python",
   "nbconvert_exporter": "python",
   "pygments_lexer": "ipython3",
   "version": "3.8.5"
  }
 },
 "nbformat": 4,
 "nbformat_minor": 5
}

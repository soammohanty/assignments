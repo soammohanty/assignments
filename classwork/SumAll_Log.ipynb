{
 "cells": [
  {
   "cell_type": "code",
   "execution_count": 1,
   "id": "brutal-madagascar",
   "metadata": {},
   "outputs": [],
   "source": [
    "import logging as log"
   ]
  },
  {
   "cell_type": "code",
   "execution_count": 2,
   "id": "expanded-exception",
   "metadata": {},
   "outputs": [],
   "source": [
    "import os\n",
    "import shutil"
   ]
  },
  {
   "cell_type": "code",
   "execution_count": 3,
   "id": "pressing-clock",
   "metadata": {},
   "outputs": [
    {
     "data": {
      "text/plain": [
       "'/Users/soamm/Desktop'"
      ]
     },
     "execution_count": 3,
     "metadata": {},
     "output_type": "execute_result"
    }
   ],
   "source": [
    "pwd()"
   ]
  },
  {
   "cell_type": "code",
   "execution_count": 4,
   "id": "numerical-subsection",
   "metadata": {},
   "outputs": [],
   "source": [
    "FolderName = 'LoggingFolder'\n",
    "\n",
    "#Cleanup: Delete the folder if exist\n",
    "if os.path.isdir(FolderName):\n",
    "    shutil.rmtree('LoggingFolder')\n",
    "\n"
   ]
  },
  {
   "cell_type": "code",
   "execution_count": 5,
   "id": "selected-space",
   "metadata": {},
   "outputs": [],
   "source": [
    "# Create folder    \n",
    "os.mkdir(FolderName)"
   ]
  },
  {
   "cell_type": "code",
   "execution_count": 6,
   "id": "statistical-amsterdam",
   "metadata": {},
   "outputs": [],
   "source": [
    "# Change the directory\n",
    "os.chdir(os.getcwd()+\"/\"+FolderName)"
   ]
  },
  {
   "cell_type": "code",
   "execution_count": 7,
   "id": "signal-dream",
   "metadata": {},
   "outputs": [
    {
     "data": {
      "text/plain": [
       "'/Users/soamm/Desktop/LoggingFolder'"
      ]
     },
     "execution_count": 7,
     "metadata": {},
     "output_type": "execute_result"
    }
   ],
   "source": [
    "pwd()"
   ]
  },
  {
   "cell_type": "code",
   "execution_count": 8,
   "id": "wrong-charger",
   "metadata": {},
   "outputs": [],
   "source": [
    "logFileName = 'sumAll.log'\n",
    "\n",
    "# Setup Log\n",
    "log.basicConfig(filename=logFileName,level=log.INFO, format = '%(asctime)s %(message)s')"
   ]
  },
  {
   "cell_type": "code",
   "execution_count": 9,
   "id": "cardiac-present",
   "metadata": {},
   "outputs": [],
   "source": [
    "def addAll(*args):\n",
    "    log.info('User Input values are:------')\n",
    "    sum = 0\n",
    "    try:\n",
    "        for arg in args:\n",
    "            log.info(arg)\n",
    "            sum +=int(arg)\n",
    "        log.info(\"Sum is:-----\"+str(sum))  \n",
    "        return sum    \n",
    "    except Exception as e:\n",
    "        log.exception(str(e))\n",
    "        \n",
    "        \n",
    "        "
   ]
  },
  {
   "cell_type": "code",
   "execution_count": 13,
   "id": "invalid-technique",
   "metadata": {},
   "outputs": [
    {
     "data": {
      "text/plain": [
       "10"
      ]
     },
     "execution_count": 13,
     "metadata": {},
     "output_type": "execute_result"
    }
   ],
   "source": [
    "addAll(1,2,3,'4')\n"
   ]
  },
  {
   "cell_type": "code",
   "execution_count": 14,
   "id": "united-reporter",
   "metadata": {},
   "outputs": [],
   "source": [
    "# Read and print the log file\n",
    "logfile = open(os.getcwd()+\"/\"+logFileName)"
   ]
  },
  {
   "cell_type": "code",
   "execution_count": 15,
   "id": "suburban-library",
   "metadata": {},
   "outputs": [
    {
     "name": "stdout",
     "output_type": "stream",
     "text": [
      "2021-04-18 11:19:50,317 User Input values are:------\n",
      "2021-04-18 11:19:50,317 1\n",
      "2021-04-18 11:19:50,317 2\n",
      "2021-04-18 11:19:50,317 3\n",
      "2021-04-18 11:19:50,318 11aas1\n",
      "2021-04-18 11:19:50,318 invalid literal for int() with base 10: '11aas1'\n",
      "Traceback (most recent call last):\n",
      "  File \"<ipython-input-9-3b0609e6ef1a>\", line 7, in addAll\n",
      "    sum +=int(arg)\n",
      "ValueError: invalid literal for int() with base 10: '11aas1'\n",
      "2021-04-18 11:20:05,488 User Input values are:------\n",
      "2021-04-18 11:20:05,488 1\n",
      "2021-04-18 11:20:05,488 2\n",
      "2021-04-18 11:20:05,488 3\n",
      "2021-04-18 11:20:05,489 4\n",
      "2021-04-18 11:20:05,489 Sum is:-----10\n",
      "\n"
     ]
    }
   ],
   "source": [
    "print(logfile.read())"
   ]
  },
  {
   "cell_type": "code",
   "execution_count": null,
   "id": "invalid-carol",
   "metadata": {},
   "outputs": [],
   "source": []
  }
 ],
 "metadata": {
  "kernelspec": {
   "display_name": "Python 3",
   "language": "python",
   "name": "python3"
  },
  "language_info": {
   "codemirror_mode": {
    "name": "ipython",
    "version": 3
   },
   "file_extension": ".py",
   "mimetype": "text/x-python",
   "name": "python",
   "nbconvert_exporter": "python",
   "pygments_lexer": "ipython3",
   "version": "3.8.5"
  }
 },
 "nbformat": 4,
 "nbformat_minor": 5
}

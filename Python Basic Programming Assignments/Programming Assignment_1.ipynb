{
 "cells": [
  {
   "cell_type": "markdown",
   "id": "aggressive-cardiff",
   "metadata": {},
   "source": [
    "# 1. Write a Python program to print &quot;Hello Python&quot;?\n"
   ]
  },
  {
   "cell_type": "code",
   "execution_count": 1,
   "id": "assured-distance",
   "metadata": {},
   "outputs": [
    {
     "name": "stdout",
     "output_type": "stream",
     "text": [
      "Hello Python\n"
     ]
    }
   ],
   "source": [
    "print(\"Hello Python\")"
   ]
  },
  {
   "cell_type": "markdown",
   "id": "experimental-aquarium",
   "metadata": {},
   "source": [
    "# 2. Write a Python program to do arithmetical operations addition and division?\n"
   ]
  },
  {
   "cell_type": "code",
   "execution_count": 2,
   "id": "moderate-myrtle",
   "metadata": {},
   "outputs": [
    {
     "name": "stdout",
     "output_type": "stream",
     "text": [
      "Enter First Number: 10\n",
      "Enter Second Number: 20\n",
      "30\n"
     ]
    }
   ],
   "source": [
    "a = int(input('Enter First Number: '))\n",
    "b = int(input('Enter Second Number: '))\n",
    "print(a+b)"
   ]
  },
  {
   "cell_type": "markdown",
   "id": "periodic-pharmacy",
   "metadata": {},
   "source": [
    "# 3. Write a Python program to find the area of a triangle?"
   ]
  },
  {
   "cell_type": "code",
   "execution_count": 9,
   "id": "written-validity",
   "metadata": {},
   "outputs": [
    {
     "name": "stdout",
     "output_type": "stream",
     "text": [
      "Enter Base Length: 10\n",
      "Enter Height: 5\n",
      "Area of the Triangle is: 25.0\n"
     ]
    }
   ],
   "source": [
    "b = float(input('Enter Base Length: '))\n",
    "h = float(input('Enter Height: '))\n",
    "print('Area of the Triangle is: '+str(0.5*b*h))"
   ]
  },
  {
   "cell_type": "markdown",
   "id": "quarterly-tower",
   "metadata": {},
   "source": [
    "# 4. Write a Python program to swap two variables?"
   ]
  },
  {
   "cell_type": "code",
   "execution_count": 4,
   "id": "yellow-ukraine",
   "metadata": {},
   "outputs": [
    {
     "name": "stdout",
     "output_type": "stream",
     "text": [
      "Enter First value: 10\n",
      "Enter Second value: 20\n",
      "Value of a is: 20\n",
      "Value of b is: 10\n"
     ]
    }
   ],
   "source": [
    "a = input('Enter First value: ')\n",
    "b = input('Enter Second value: ')\n",
    "a,b = b,a\n",
    "print('Value of a is: '+a)\n",
    "print('Value of b is: '+b)"
   ]
  },
  {
   "cell_type": "markdown",
   "id": "leading-heath",
   "metadata": {},
   "source": [
    "# 5. Write a Python program to generate a random number?"
   ]
  },
  {
   "cell_type": "code",
   "execution_count": 6,
   "id": "unavailable-sample",
   "metadata": {},
   "outputs": [
    {
     "name": "stdout",
     "output_type": "stream",
     "text": [
      "46\n"
     ]
    }
   ],
   "source": [
    "import random\n",
    "rnum = random.randint(0,100)\n",
    "print(rnum)"
   ]
  }
 ],
 "metadata": {
  "kernelspec": {
   "display_name": "Python 3",
   "language": "python",
   "name": "python3"
  },
  "language_info": {
   "codemirror_mode": {
    "name": "ipython",
    "version": 3
   },
   "file_extension": ".py",
   "mimetype": "text/x-python",
   "name": "python",
   "nbconvert_exporter": "python",
   "pygments_lexer": "ipython3",
   "version": "3.8.5"
  }
 },
 "nbformat": 4,
 "nbformat_minor": 5
}

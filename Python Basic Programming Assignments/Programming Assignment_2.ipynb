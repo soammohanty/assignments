{
 "cells": [
  {
   "cell_type": "markdown",
   "id": "realistic-civilian",
   "metadata": {},
   "source": [
    "# Write a Python program to convert kilometers to miles?"
   ]
  },
  {
   "cell_type": "code",
   "execution_count": 6,
   "id": "outdoor-massage",
   "metadata": {},
   "outputs": [
    {
     "name": "stdout",
     "output_type": "stream",
     "text": [
      "Enter value in KM: 13\n",
      "Miles: 8.08\n"
     ]
    }
   ],
   "source": [
    "kmValue = float(input('Enter value in KM: '))\n",
    "miles = kmValue * 0.621371\n",
    "print('Miles: '+str(round(miles,2)))"
   ]
  },
  {
   "cell_type": "markdown",
   "id": "bridal-registrar",
   "metadata": {},
   "source": [
    "# Write a Python program to convert Celsius to Fahrenheit?\n"
   ]
  },
  {
   "cell_type": "code",
   "execution_count": 9,
   "id": "after-transaction",
   "metadata": {},
   "outputs": [
    {
     "name": "stdout",
     "output_type": "stream",
     "text": [
      "Enter temp. in Celcius: 25.5\n",
      "Fahrenheit: 77.9\n"
     ]
    }
   ],
   "source": [
    "celValue = float(input('Enter temp. in Celcius: '))\n",
    "F = (celValue  * 9/5) + 32 \n",
    "print('Fahrenheit: '+str(round(F,2)))"
   ]
  },
  {
   "cell_type": "markdown",
   "id": "dying-replacement",
   "metadata": {},
   "source": [
    "# Write a Python program to display calendar?"
   ]
  },
  {
   "cell_type": "code",
   "execution_count": 11,
   "id": "aggregate-manner",
   "metadata": {},
   "outputs": [
    {
     "name": "stdout",
     "output_type": "stream",
     "text": [
      "Enter year: 2021\n",
      "Enter month: 5\n",
      "      May 2021\n",
      "Mo Tu We Th Fr Sa Su\n",
      "                1  2\n",
      " 3  4  5  6  7  8  9\n",
      "10 11 12 13 14 15 16\n",
      "17 18 19 20 21 22 23\n",
      "24 25 26 27 28 29 30\n",
      "31\n",
      "\n"
     ]
    }
   ],
   "source": [
    "import calendar\n",
    "yy = int(input(\"Enter year: \"))\n",
    "mm = int(input(\"Enter month: \"))\n",
    "print(calendar.month(yy,mm))"
   ]
  },
  {
   "cell_type": "markdown",
   "id": "leading-symphony",
   "metadata": {},
   "source": [
    "# Write a Python program to solve quadratic equation?"
   ]
  },
  {
   "cell_type": "code",
   "execution_count": 15,
   "id": "crude-placement",
   "metadata": {},
   "outputs": [
    {
     "name": "stdout",
     "output_type": "stream",
     "text": [
      "Enter a: 10\n",
      "Enter b: 5\n",
      "Enter c: 20\n",
      "Answer is (-25+139.19410907075053j) and (-25-139.19410907075053j)\n"
     ]
    }
   ],
   "source": [
    "import cmath\n",
    "a = float(input('Enter a: '))\n",
    "b = float(input('Enter b: '))\n",
    "c = float(input('Enter c: '))\n",
    "\n",
    "d = (b**2) - (4*a*c)\n",
    "\n",
    "ans1 = (-b + cmath.sqrt(d))/2*a\n",
    "ans2 = (-b - cmath.sqrt(d))/2*a\n",
    "\n",
    "print('Answer is {0} and {1}'.format(ans1,ans2))"
   ]
  },
  {
   "cell_type": "markdown",
   "id": "logical-ballet",
   "metadata": {},
   "source": [
    "# Write a Python program to swap two variables without temp variable?"
   ]
  },
  {
   "cell_type": "code",
   "execution_count": 16,
   "id": "therapeutic-protocol",
   "metadata": {},
   "outputs": [
    {
     "name": "stdout",
     "output_type": "stream",
     "text": [
      "Enter first variable: 10\n",
      "Enter second variable: 20\n",
      "values are 20 and 10\n"
     ]
    }
   ],
   "source": [
    "a  = input('Enter first variable: ')\n",
    "b = input('Enter second variable: ')\n",
    "a,b = b,a\n",
    "print('values are {0} and {1}'.format(a,b))\n"
   ]
  },
  {
   "cell_type": "code",
   "execution_count": null,
   "id": "constitutional-domain",
   "metadata": {},
   "outputs": [],
   "source": []
  }
 ],
 "metadata": {
  "kernelspec": {
   "display_name": "Python 3",
   "language": "python",
   "name": "python3"
  },
  "language_info": {
   "codemirror_mode": {
    "name": "ipython",
    "version": 3
   },
   "file_extension": ".py",
   "mimetype": "text/x-python",
   "name": "python",
   "nbconvert_exporter": "python",
   "pygments_lexer": "ipython3",
   "version": "3.8.5"
  }
 },
 "nbformat": 4,
 "nbformat_minor": 5
}
